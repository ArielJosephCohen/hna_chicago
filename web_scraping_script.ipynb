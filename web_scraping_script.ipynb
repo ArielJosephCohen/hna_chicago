{
 "cells": [
  {
   "cell_type": "code",
   "execution_count": 1,
   "metadata": {},
   "outputs": [],
   "source": [
    "import pandas as pd\n",
    "import requests\n",
    "from bs4 import BeautifulSoup\n",
    "import numpy as np\n",
    "import re\n",
    "import matplotlib.pyplot as plt\n",
    "import seaborn as sns\n",
    "import scrapy\n",
    "from urllib.request import urlopen"
   ]
  },
  {
   "cell_type": "code",
   "execution_count": 6,
   "metadata": {},
   "outputs": [],
   "source": [
    "\n",
    "schedule = 'https://www.hna.com/leagues/schedules.cfm?leagueID=5799&clientID=2296&printPage=0&today=1&showDate=2023-10-29'"
   ]
  },
  {
   "cell_type": "code",
   "execution_count": 7,
   "metadata": {},
   "outputs": [],
   "source": [
    "game = 'https://www.hna.com/leagues/hockey_boxscores.cfm?clientID=2296&leagueID=5799&gameID=2236422'"
   ]
  },
  {
   "cell_type": "code",
   "execution_count": 8,
   "metadata": {},
   "outputs": [],
   "source": [
    "soup = BeautifulSoup()"
   ]
  },
  {
   "cell_type": "code",
   "execution_count": 9,
   "metadata": {},
   "outputs": [],
   "source": [
    "game_page = requests.get(game)\n",
    "schedule_page = requests.get(schedule)"
   ]
  },
  {
   "cell_type": "code",
   "execution_count": 10,
   "metadata": {},
   "outputs": [],
   "source": [
    "soup_game = BeautifulSoup(game_page.content, \"html.parser\")\n",
    "soup_schedule = BeautifulSoup(schedule_page.content, \"html.parser\")"
   ]
  },
  {
   "cell_type": "code",
   "execution_count": 11,
   "metadata": {},
   "outputs": [],
   "source": [
    "# scrape date"
   ]
  },
  {
   "cell_type": "code",
   "execution_count": 13,
   "metadata": {},
   "outputs": [
    {
     "data": {
      "text/plain": [
       "'October 29th, 2023'"
      ]
     },
     "execution_count": 13,
     "metadata": {},
     "output_type": "execute_result"
    }
   ],
   "source": [
    "list(list(soup_game.find_all('p'))[2])[0].replace('\\n','')"
   ]
  },
  {
   "cell_type": "code",
   "execution_count": 14,
   "metadata": {},
   "outputs": [],
   "source": [
    "# scrape time"
   ]
  },
  {
   "cell_type": "code",
   "execution_count": 15,
   "metadata": {},
   "outputs": [
    {
     "data": {
      "text/plain": [
       "'7:00PM'"
      ]
     },
     "execution_count": 15,
     "metadata": {},
     "output_type": "execute_result"
    }
   ],
   "source": [
    "list(list(soup_game.find_all('p'))[2])[-1].replace('\\n','')"
   ]
  },
  {
   "cell_type": "code",
   "execution_count": 16,
   "metadata": {},
   "outputs": [],
   "source": [
    "# scrape rink"
   ]
  },
  {
   "cell_type": "code",
   "execution_count": 17,
   "metadata": {},
   "outputs": [
    {
     "data": {
      "text/plain": [
       "'Addison'"
      ]
     },
     "execution_count": 17,
     "metadata": {},
     "output_type": "execute_result"
    }
   ],
   "source": [
    "str(list(list(list(soup_game.find_all('p'))[3])[-2])).split()[0][2:]"
   ]
  },
  {
   "cell_type": "code",
   "execution_count": 18,
   "metadata": {},
   "outputs": [],
   "source": [
    "# scrape team names"
   ]
  },
  {
   "cell_type": "code",
   "execution_count": 19,
   "metadata": {},
   "outputs": [
    {
     "data": {
      "text/plain": [
       "'Patriots'"
      ]
     },
     "execution_count": 19,
     "metadata": {},
     "output_type": "execute_result"
    }
   ],
   "source": [
    "list(str(list(soup_game.find_all('p',class_='h6'))[0]).split())[-5].split('=')[1][1:-4]"
   ]
  },
  {
   "cell_type": "code",
   "execution_count": 20,
   "metadata": {},
   "outputs": [
    {
     "data": {
      "text/plain": [
       "290"
      ]
     },
     "execution_count": 20,
     "metadata": {},
     "output_type": "execute_result"
    }
   ],
   "source": [
    "str(soup_game.find_all('p',class_='h6')[1]).find('title')\n"
   ]
  },
  {
   "cell_type": "code",
   "execution_count": 21,
   "metadata": {},
   "outputs": [
    {
     "data": {
      "text/plain": [
       "'River Pigs'"
      ]
     },
     "execution_count": 21,
     "metadata": {},
     "output_type": "execute_result"
    }
   ],
   "source": [
    "str(soup_game.find_all('p',class_='h6')[1])[297:297+10]\n"
   ]
  },
  {
   "cell_type": "code",
   "execution_count": 22,
   "metadata": {},
   "outputs": [],
   "source": [
    "# scrape final outcome"
   ]
  },
  {
   "cell_type": "code",
   "execution_count": 23,
   "metadata": {},
   "outputs": [
    {
     "data": {
      "text/plain": [
       "'1'"
      ]
     },
     "execution_count": 23,
     "metadata": {},
     "output_type": "execute_result"
    }
   ],
   "source": [
    "str(soup_game.find_all('span', class_=\"bg-primary rounded text-white px-4 py-1 h1\")[0])[-8]"
   ]
  },
  {
   "cell_type": "code",
   "execution_count": 24,
   "metadata": {},
   "outputs": [
    {
     "data": {
      "text/plain": [
       "'4'"
      ]
     },
     "execution_count": 24,
     "metadata": {},
     "output_type": "execute_result"
    }
   ],
   "source": [
    "str(soup_game.find_all('span', class_=\"bg-primary rounded text-white px-4 py-1 h1\")[1])[-8]"
   ]
  },
  {
   "cell_type": "code",
   "execution_count": 25,
   "metadata": {},
   "outputs": [],
   "source": [
    "# scrape period by period scoring"
   ]
  },
  {
   "cell_type": "code",
   "execution_count": 74,
   "metadata": {},
   "outputs": [
    {
     "data": {
      "text/plain": [
       "[<td class=\"text-left\">\n",
       " <span class=\"d-sm-inline d-none\"><a class=\"text-dark\" href=\"stats_1team.cfm?clientID=2296&amp;teamID=613005&amp;leagueID=5799&amp;printPage=0\" target=\"_parent\">Patriots</a> </span><span class=\"d-sm-none d-inline\" data-placement=\"top\" data-toggle=\"tooltip\" title=\"Patriots\"><a class=\"text-dark\" href=\"stats_1team.cfm?clientID=2296&amp;teamID=613005&amp;leagueID=5799&amp;printPage=0\" target=\"_parent\">PATS</a></span>\n",
       " </td>,\n",
       " <td> 0</td>,\n",
       " <td>1</td>,\n",
       " <td>0</td>,\n",
       " <td>1</td>,\n",
       " <td class=\"text-left\">\n",
       " <span class=\"d-sm-inline d-none\"><a class=\"text-dark\" href=\"stats_1team.cfm?clientID=2296&amp;teamID=613009&amp;leagueID=5799&amp;printPage=0\" target=\"_parent\">River Pigs</a> </span><span class=\"d-sm-none d-inline\" data-placement=\"top\" data-toggle=\"tooltip\" title=\"River Pigs\"><a class=\"text-dark\" href=\"stats_1team.cfm?clientID=2296&amp;teamID=613009&amp;leagueID=5799&amp;printPage=0\" target=\"_parent\">PIGS</a></span>\n",
       " </td>,\n",
       " <td>2</td>,\n",
       " <td>2</td>,\n",
       " <td>0</td>,\n",
       " <td>4</td>]"
      ]
     },
     "execution_count": 74,
     "metadata": {},
     "output_type": "execute_result"
    }
   ],
   "source": [
    "(soup_game.find_all('table',class_='table text-nowrap')[0]).find_all('td')"
   ]
  },
  {
   "cell_type": "code",
   "execution_count": 83,
   "metadata": {},
   "outputs": [
    {
     "data": {
      "text/plain": [
       "[<td> 0</td>, <td>1</td>, <td>0</td>, <td>1</td>]"
      ]
     },
     "execution_count": 83,
     "metadata": {},
     "output_type": "execute_result"
    }
   ],
   "source": [
    "(soup_game.find_all('table',class_='table text-nowrap')[0]).find_all('td')[1:5]"
   ]
  },
  {
   "cell_type": "code",
   "execution_count": 88,
   "metadata": {},
   "outputs": [
    {
     "data": {
      "text/plain": [
       "['0', '1', '0', '1']"
      ]
     },
     "execution_count": 88,
     "metadata": {},
     "output_type": "execute_result"
    }
   ],
   "source": [
    "re.findall('[0-9]',str((soup_game.find_all('table',class_='table text-nowrap')[0]).find_all('td')[1:5]))"
   ]
  },
  {
   "cell_type": "code",
   "execution_count": 89,
   "metadata": {},
   "outputs": [
    {
     "data": {
      "text/plain": [
       "[<td class=\"text-left\">\n",
       " <span class=\"d-sm-inline d-none\"><a class=\"text-dark\" href=\"stats_1team.cfm?clientID=2296&amp;teamID=613005&amp;leagueID=5799&amp;printPage=0\" target=\"_parent\">Patriots</a> </span><span class=\"d-sm-none d-inline\" data-placement=\"top\" data-toggle=\"tooltip\" title=\"Patriots\"><a class=\"text-dark\" href=\"stats_1team.cfm?clientID=2296&amp;teamID=613005&amp;leagueID=5799&amp;printPage=0\" target=\"_parent\">PATS</a></span>\n",
       " </td>,\n",
       " <td> 0</td>,\n",
       " <td>1</td>,\n",
       " <td>0</td>,\n",
       " <td>1</td>,\n",
       " <td class=\"text-left\">\n",
       " <span class=\"d-sm-inline d-none\"><a class=\"text-dark\" href=\"stats_1team.cfm?clientID=2296&amp;teamID=613009&amp;leagueID=5799&amp;printPage=0\" target=\"_parent\">River Pigs</a> </span><span class=\"d-sm-none d-inline\" data-placement=\"top\" data-toggle=\"tooltip\" title=\"River Pigs\"><a class=\"text-dark\" href=\"stats_1team.cfm?clientID=2296&amp;teamID=613009&amp;leagueID=5799&amp;printPage=0\" target=\"_parent\">PIGS</a></span>\n",
       " </td>,\n",
       " <td>2</td>,\n",
       " <td>2</td>,\n",
       " <td>0</td>,\n",
       " <td>4</td>]"
      ]
     },
     "execution_count": 89,
     "metadata": {},
     "output_type": "execute_result"
    }
   ],
   "source": [
    "(soup_game.find_all('table',class_='table text-nowrap')[0]).find_all('td')"
   ]
  },
  {
   "cell_type": "code",
   "execution_count": 101,
   "metadata": {},
   "outputs": [
    {
     "data": {
      "text/plain": [
       "[<td>2</td>, <td>2</td>, <td>0</td>, <td>4</td>]"
      ]
     },
     "execution_count": 101,
     "metadata": {},
     "output_type": "execute_result"
    }
   ],
   "source": [
    "(soup_game.find_all('table',class_='table text-nowrap')[0]).find_all('td')[6:10]"
   ]
  },
  {
   "cell_type": "code",
   "execution_count": 103,
   "metadata": {},
   "outputs": [],
   "source": [
    "a = str((soup_game.find_all('table',class_='table text-nowrap')[0]).find_all('td')[6:10])"
   ]
  },
  {
   "cell_type": "code",
   "execution_count": 104,
   "metadata": {},
   "outputs": [
    {
     "data": {
      "text/plain": [
       "['2', '2', '0', '4']"
      ]
     },
     "execution_count": 104,
     "metadata": {},
     "output_type": "execute_result"
    }
   ],
   "source": [
    "re.findall('[0-9]',a)"
   ]
  },
  {
   "cell_type": "code",
   "execution_count": 26,
   "metadata": {},
   "outputs": [],
   "source": [
    "# scrape period by period shots"
   ]
  },
  {
   "cell_type": "code",
   "execution_count": 106,
   "metadata": {},
   "outputs": [
    {
     "data": {
      "text/plain": [
       "[<td class=\"text-left\">\n",
       " <span class=\"d-sm-inline d-none\"><a class=\"text-dark\" href=\"stats_1team.cfm?clientID=2296&amp;teamID=613005&amp;leagueID=5799&amp;printPage=0\" target=\"_parent\">Patriots</a> </span><span class=\"d-sm-none d-inline\" data-placement=\"top\" data-toggle=\"tooltip\" title=\"Patriots\"><a class=\"text-dark\" href=\"stats_1team.cfm?clientID=2296&amp;teamID=613005&amp;leagueID=5799&amp;printPage=0\" target=\"_parent\">PATS</a></span>\n",
       " </td>,\n",
       " <td>\n",
       " 15 (5-7-3)\n",
       " </td>,\n",
       " <td>\n",
       " 0/0\n",
       " </td>,\n",
       " <td>0</td>,\n",
       " <td class=\"text-left\">\n",
       " <span class=\"d-sm-inline d-none\"><a class=\"text-dark\" href=\"stats_1team.cfm?clientID=2296&amp;teamID=613009&amp;leagueID=5799&amp;printPage=0\" target=\"_parent\">River Pigs</a> </span><span class=\"d-sm-none d-inline\" data-placement=\"top\" data-toggle=\"tooltip\" title=\"River Pigs\"><a class=\"text-dark\" href=\"stats_1team.cfm?clientID=2296&amp;teamID=613009&amp;leagueID=5799&amp;printPage=0\" target=\"_parent\">PIGS</a></span>\n",
       " </td>,\n",
       " <td>\n",
       " 21 (8-9-4)\n",
       " </td>,\n",
       " <td>\n",
       " 0/0\n",
       " </td>,\n",
       " <td>0</td>]"
      ]
     },
     "execution_count": 106,
     "metadata": {},
     "output_type": "execute_result"
    }
   ],
   "source": [
    "(soup_game.find_all('table',class_='table text-nowrap')[1]).find_all('td')"
   ]
  },
  {
   "cell_type": "code",
   "execution_count": 115,
   "metadata": {},
   "outputs": [],
   "source": [
    "a=(soup_game.find_all('table',class_='table text-nowrap')[1]).find_all('td')[1]"
   ]
  },
  {
   "cell_type": "code",
   "execution_count": 116,
   "metadata": {},
   "outputs": [],
   "source": [
    "b=(soup_game.find_all('table',class_='table text-nowrap')[1]).find_all('td')[5]"
   ]
  },
  {
   "cell_type": "code",
   "execution_count": 128,
   "metadata": {},
   "outputs": [
    {
     "data": {
      "text/plain": [
       "['1', '5', '5', '7', '3']"
      ]
     },
     "execution_count": 128,
     "metadata": {},
     "output_type": "execute_result"
    }
   ],
   "source": [
    "re.findall('[0-9]',str(a))"
   ]
  },
  {
   "cell_type": "code",
   "execution_count": 118,
   "metadata": {},
   "outputs": [
    {
     "data": {
      "text/plain": [
       "['2', '1', '8', '9', '4']"
      ]
     },
     "execution_count": 118,
     "metadata": {},
     "output_type": "execute_result"
    }
   ],
   "source": [
    "re.findall('[0-9]',str(b))"
   ]
  },
  {
   "cell_type": "code",
   "execution_count": 27,
   "metadata": {},
   "outputs": [],
   "source": [
    "# scrape period by period penalties"
   ]
  },
  {
   "cell_type": "code",
   "execution_count": 139,
   "metadata": {},
   "outputs": [],
   "source": [
    "a=(soup_game.find_all('table',class_='table text-nowrap')[1]).find_all('td')[3]"
   ]
  },
  {
   "cell_type": "code",
   "execution_count": 140,
   "metadata": {},
   "outputs": [],
   "source": [
    "b=(soup_game.find_all('table',class_='table text-nowrap')[1]).find_all('td')[7]"
   ]
  },
  {
   "cell_type": "code",
   "execution_count": 141,
   "metadata": {},
   "outputs": [
    {
     "data": {
      "text/plain": [
       "['0']"
      ]
     },
     "execution_count": 141,
     "metadata": {},
     "output_type": "execute_result"
    }
   ],
   "source": [
    "re.findall('[0-9]',str(a))"
   ]
  },
  {
   "cell_type": "code",
   "execution_count": 142,
   "metadata": {},
   "outputs": [
    {
     "data": {
      "text/plain": [
       "['0']"
      ]
     },
     "execution_count": 142,
     "metadata": {},
     "output_type": "execute_result"
    }
   ],
   "source": [
    "re.findall('[0-9]',str(b))"
   ]
  },
  {
   "cell_type": "code",
   "execution_count": 107,
   "metadata": {},
   "outputs": [],
   "source": [
    "# scrape period by period powerplays"
   ]
  },
  {
   "cell_type": "code",
   "execution_count": 151,
   "metadata": {},
   "outputs": [],
   "source": [
    "a=(soup_game.find_all('table',class_='table text-nowrap')[1]).find_all('td')[2]"
   ]
  },
  {
   "cell_type": "code",
   "execution_count": 152,
   "metadata": {},
   "outputs": [],
   "source": [
    "b=(soup_game.find_all('table',class_='table text-nowrap')[1]).find_all('td')[6]"
   ]
  },
  {
   "cell_type": "code",
   "execution_count": 153,
   "metadata": {},
   "outputs": [
    {
     "data": {
      "text/plain": [
       "['0', '0']"
      ]
     },
     "execution_count": 153,
     "metadata": {},
     "output_type": "execute_result"
    }
   ],
   "source": [
    "re.findall('[0-9]',str(a))"
   ]
  },
  {
   "cell_type": "code",
   "execution_count": 154,
   "metadata": {},
   "outputs": [
    {
     "data": {
      "text/plain": [
       "['0', '0']"
      ]
     },
     "execution_count": 154,
     "metadata": {},
     "output_type": "execute_result"
    }
   ],
   "source": [
    "re.findall('[0-9]',str(b))"
   ]
  },
  {
   "cell_type": "code",
   "execution_count": 155,
   "metadata": {},
   "outputs": [],
   "source": [
    "# scrape individual scoring"
   ]
  },
  {
   "cell_type": "code",
   "execution_count": 188,
   "metadata": {},
   "outputs": [],
   "source": [
    "a=(soup_game.find_all('table',class_='table text-nowrap mb-0'))"
   ]
  },
  {
   "cell_type": "code",
   "execution_count": 217,
   "metadata": {},
   "outputs": [
    {
     "data": {
      "text/plain": [
       "[<a class=\"text-dark\" container=\"body\" data-placement=\"top\" data-toggle=\"tooltip\" href=\"rosters_profile.cfm?clientID=2296&amp;leagueID=5799&amp;playerID=2011383&amp;teamID=613009\" target=\"_parent\" title=\"Ben Gaughan\" trigger=\"hover click\"><span class=\"d-sm-inline d-none\">Ben</span> Gaughan</a>,\n",
       " <a class=\"text-dark\" container=\"body\" data-placement=\"top\" data-toggle=\"tooltip\" href=\"rosters_profile.cfm?clientID=2296&amp;leagueID=5799&amp;playerID=2011393&amp;teamID=613009\" target=\"_parent\" title=\"Scott Melzer\" trigger=\"hover click\"><span class=\"d-sm-inline d-none\">Scott</span> Melzer</a>,\n",
       " <a class=\"text-dark\" container=\"body\" data-placement=\"top\" data-toggle=\"tooltip\" href=\"rosters_profile.cfm?clientID=2296&amp;leagueID=5799&amp;playerID=2011383&amp;teamID=613009\" target=\"_parent\" title=\"Ben Gaughan\" trigger=\"hover click\"><span class=\"d-sm-inline d-none\">Ben</span> Gaughan</a>,\n",
       " <a class=\"text-dark\" container=\"body\" data-placement=\"top\" data-toggle=\"tooltip\" href=\"rosters_profile.cfm?clientID=2296&amp;leagueID=5799&amp;playerID=2011389&amp;teamID=613009\" target=\"_parent\" title=\"Andy Raia\" trigger=\"hover click\"><span class=\"d-sm-inline d-none\">Andy</span> Raia</a>]"
      ]
     },
     "execution_count": 217,
     "metadata": {},
     "output_type": "execute_result"
    }
   ],
   "source": [
    "a[0].findAll('a')"
   ]
  },
  {
   "cell_type": "code",
   "execution_count": 221,
   "metadata": {},
   "outputs": [],
   "source": [
    "aa=a[0].findAll('a')[0]"
   ]
  },
  {
   "cell_type": "code",
   "execution_count": 228,
   "metadata": {},
   "outputs": [
    {
     "data": {
      "text/plain": [
       "'Ben Gaughan'"
      ]
     },
     "execution_count": 228,
     "metadata": {},
     "output_type": "execute_result"
    }
   ],
   "source": [
    "aa['title']"
   ]
  },
  {
   "cell_type": "code",
   "execution_count": 229,
   "metadata": {},
   "outputs": [],
   "source": [
    "aa=a[0].findAll('small')"
   ]
  },
  {
   "cell_type": "code",
   "execution_count": 241,
   "metadata": {},
   "outputs": [
    {
     "data": {
      "text/plain": [
       "407"
      ]
     },
     "execution_count": 241,
     "metadata": {},
     "output_type": "execute_result"
    }
   ],
   "source": [
    "str(aa).find(':')"
   ]
  },
  {
   "cell_type": "code",
   "execution_count": 265,
   "metadata": {},
   "outputs": [
    {
     "data": {
      "text/plain": [
       "'5:03'"
      ]
     },
     "execution_count": 265,
     "metadata": {},
     "output_type": "execute_result"
    }
   ],
   "source": [
    "str(aa)[406:410]"
   ]
  },
  {
   "cell_type": "code",
   "execution_count": 266,
   "metadata": {},
   "outputs": [],
   "source": [
    "b=aa[-1]"
   ]
  },
  {
   "cell_type": "code",
   "execution_count": 267,
   "metadata": {},
   "outputs": [
    {
     "data": {
      "text/plain": [
       "92"
      ]
     },
     "execution_count": 267,
     "metadata": {},
     "output_type": "execute_result"
    }
   ],
   "source": [
    "str(b).find(':')"
   ]
  },
  {
   "cell_type": "code",
   "execution_count": 269,
   "metadata": {},
   "outputs": [
    {
     "data": {
      "text/plain": [
       "'2:40'"
      ]
     },
     "execution_count": 269,
     "metadata": {},
     "output_type": "execute_result"
    }
   ],
   "source": [
    "str(b)[91:95]"
   ]
  },
  {
   "cell_type": "code",
   "execution_count": 70,
   "metadata": {},
   "outputs": [],
   "source": [
    "# scrape penalty"
   ]
  },
  {
   "cell_type": "code",
   "execution_count": null,
   "metadata": {},
   "outputs": [],
   "source": []
  },
  {
   "cell_type": "code",
   "execution_count": 71,
   "metadata": {},
   "outputs": [],
   "source": [
    "# scrape skaters"
   ]
  },
  {
   "cell_type": "code",
   "execution_count": null,
   "metadata": {},
   "outputs": [],
   "source": []
  },
  {
   "cell_type": "code",
   "execution_count": 72,
   "metadata": {},
   "outputs": [],
   "source": [
    "# scrape goalies"
   ]
  },
  {
   "cell_type": "code",
   "execution_count": null,
   "metadata": {},
   "outputs": [],
   "source": []
  }
 ],
 "metadata": {
  "kernelspec": {
   "display_name": "Python 3",
   "language": "python",
   "name": "python3"
  },
  "language_info": {
   "codemirror_mode": {
    "name": "ipython",
    "version": 3
   },
   "file_extension": ".py",
   "mimetype": "text/x-python",
   "name": "python",
   "nbconvert_exporter": "python",
   "pygments_lexer": "ipython3",
   "version": "3.11.3"
  }
 },
 "nbformat": 4,
 "nbformat_minor": 2
}
